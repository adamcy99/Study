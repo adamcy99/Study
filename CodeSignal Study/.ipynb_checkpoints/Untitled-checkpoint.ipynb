{
 "cells": [
  {
   "cell_type": "code",
   "execution_count": 55,
   "id": "0af79a5c-35c1-4855-a9fb-4189c1d6ec38",
   "metadata": {},
   "outputs": [],
   "source": [
    "def solution(string):\n",
    "    i = 0\n",
    "    output = False\n",
    "    while i < len(string):\n",
    "        if string[i].isdigit():\n",
    "            lnum = int(string[i])\n",
    "            break\n",
    "        i += 1\n",
    "    count = 0\n",
    "    while i < len(string):\n",
    "        if string[i] == '?':\n",
    "            count += 1\n",
    "        if string[i].isdigit():\n",
    "            if count == 3: \n",
    "                if lnum+int(string[i]) != 10:\n",
    "                    return False\n",
    "                else:\n",
    "                    output = True\n",
    "            lnum = int(string[i])\n",
    "            count = 0\n",
    "        i += 1\n",
    "    return output"
   ]
  },
  {
   "cell_type": "code",
   "execution_count": null,
   "id": "21894912-497e-4a8f-b8db-9ff58496cfbb",
   "metadata": {},
   "outputs": [],
   "source": [
    "# (\"arrb6???4xxbl5???eee5\", True),\n",
    "# (\"acc?7??sss?3rr1??????5\", True),\n",
    "# (\"5??aaaaaaaaaaaaaaaaaaa?5?5\", True),\n",
    "# (\"9???1???9???1???9\", True),\n",
    "# (\"aa6?9\", False),\n",
    "# (\"8???2???9\", False),\n",
    "# (\"10???0???10\", False),\n",
    "# (\"aa3??oiuqwer?7???2\", False)"
   ]
  },
  {
   "cell_type": "code",
   "execution_count": 56,
   "id": "e962ff29-c131-4335-860d-2c8cbf011fe1",
   "metadata": {},
   "outputs": [
    {
     "name": "stdout",
     "output_type": "stream",
     "text": [
      "True\n",
      "True\n",
      "True\n",
      "True\n",
      "False\n",
      "False\n",
      "False\n",
      "False\n"
     ]
    }
   ],
   "source": [
    "tests = [\"arrb6???4xxbl5???eee5\",\"acc?7??sss?3rr1??????5\",\"5??aaaaaaaaaaaaaaaaaaa?5?5\",\"9???1???9???1???9\",\"aa6?9\",\"8???2???9\",\"10???0???10\",\"aa3??oiuqwer?7???2\"]\n",
    "for s in tests:\n",
    "    print(solution(s))"
   ]
  },
  {
   "cell_type": "code",
   "execution_count": null,
   "id": "d3a62bc6-dab6-408b-8e73-8128096aea2a",
   "metadata": {},
   "outputs": [],
   "source": []
  }
 ],
 "metadata": {
  "kernelspec": {
   "display_name": "Python 3 (ipykernel)",
   "language": "python",
   "name": "python3"
  },
  "language_info": {
   "codemirror_mode": {
    "name": "ipython",
    "version": 3
   },
   "file_extension": ".py",
   "mimetype": "text/x-python",
   "name": "python",
   "nbconvert_exporter": "python",
   "pygments_lexer": "ipython3",
   "version": "3.12.2"
  }
 },
 "nbformat": 4,
 "nbformat_minor": 5
}
